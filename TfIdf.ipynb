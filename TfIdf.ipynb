{
  "nbformat": 4,
  "nbformat_minor": 0,
  "metadata": {
    "colab": {
      "name": "TfIdf.ipynb",
      "provenance": [],
      "authorship_tag": "ABX9TyOYBpRzbYuxaPc4b39d3rVu",
      "include_colab_link": true
    },
    "kernelspec": {
      "name": "python3",
      "display_name": "Python 3"
    },
    "accelerator": "GPU"
  },
  "cells": [
    {
      "cell_type": "markdown",
      "metadata": {
        "id": "view-in-github",
        "colab_type": "text"
      },
      "source": [
        "<a href=\"https://colab.research.google.com/github/kmanoj94/NLP-basics/blob/master/TfIdf.ipynb\" target=\"_parent\"><img src=\"https://colab.research.google.com/assets/colab-badge.svg\" alt=\"Open In Colab\"/></a>"
      ]
    },
    {
      "cell_type": "code",
      "metadata": {
        "id": "pqDSCx64lPws",
        "colab_type": "code",
        "colab": {
          "base_uri": "https://localhost:8080/",
          "height": 136
        },
        "outputId": "d5f901af-2eec-4a5e-9594-ddbec36f6ff1"
      },
      "source": [
        "import nltk\n",
        "nltk.download('punkt')\n",
        "nltk.download('stopwords')\n",
        "nltk.download('wordnet')"
      ],
      "execution_count": 5,
      "outputs": [
        {
          "output_type": "stream",
          "text": [
            "[nltk_data] Downloading package punkt to /root/nltk_data...\n",
            "[nltk_data]   Package punkt is already up-to-date!\n",
            "[nltk_data] Downloading package stopwords to /root/nltk_data...\n",
            "[nltk_data]   Package stopwords is already up-to-date!\n",
            "[nltk_data] Downloading package wordnet to /root/nltk_data...\n",
            "[nltk_data]   Unzipping corpora/wordnet.zip.\n"
          ],
          "name": "stdout"
        },
        {
          "output_type": "execute_result",
          "data": {
            "text/plain": [
              "True"
            ]
          },
          "metadata": {
            "tags": []
          },
          "execution_count": 5
        }
      ]
    },
    {
      "cell_type": "code",
      "metadata": {
        "id": "zue9R11Ymcb5",
        "colab_type": "code",
        "colab": {}
      },
      "source": [
        "paragraph=\"\"\"Machine learning (ML) is the study of computer algorithms that improve automatically through experience.[1][2] It is seen as a subset of artificial intelligence. Machine learning algorithms build a mathematical model based on sample data, known as \"training data\", in order to make predictions or decisions without being explicitly programmed to do so.[3] Machine learning algorithms are used in a wide variety of applications, such as email filtering and computer vision, where it is difficult or infeasible to develop conventional algorithms to perform the needed tasks.\n",
        "\n",
        "Machine learning is closely related to computational statistics, which focuses on making predictions using computers. The study of mathematical optimization delivers methods, theory and application domains to the field of machine learning. Data mining is a related field of study, focusing on exploratory data analysis through unsupervised learning.[5][6] In its application across business problems, machine learning is also referred to as predictive analytics. \"\"\""
      ],
      "execution_count": 6,
      "outputs": []
    },
    {
      "cell_type": "code",
      "metadata": {
        "id": "IQuGKN5hmpHj",
        "colab_type": "code",
        "colab": {}
      },
      "source": [
        "import re\n",
        "from nltk.corpus import stopwords\n",
        "from nltk.stem.porter import PorterStemmer\n",
        "from nltk.stem import WordNetLemmatizer"
      ],
      "execution_count": 8,
      "outputs": []
    },
    {
      "cell_type": "code",
      "metadata": {
        "id": "HjNEZnuLnqNg",
        "colab_type": "code",
        "colab": {}
      },
      "source": [
        "ps= PorterStemmer()\n",
        "wordnet= WordNetLemmatizer()\n",
        "sentences = nltk.sent_tokenize(paragraph)\n",
        "corpus = []\n",
        "for i in range(len(sentences)):\n",
        "  review = re.sub('[^a-zA-z]', ' ',sentences[i])\n",
        "  review = review.lower()\n",
        "  review = review.split()\n",
        "  review = [wordnet.lemmatize(word) for word in review if not word in set(stopwords.words('english'))]\n",
        "  review = ' '.join(review)\n",
        "  corpus.append(review)"
      ],
      "execution_count": 13,
      "outputs": []
    },
    {
      "cell_type": "code",
      "metadata": {
        "id": "fCezeiKRo_aF",
        "colab_type": "code",
        "colab": {
          "base_uri": "https://localhost:8080/",
          "height": 173
        },
        "outputId": "e47b94dc-9455-4d2b-f0d2-aca743912916"
      },
      "source": [
        "\n",
        "corpus"
      ],
      "execution_count": 14,
      "outputs": [
        {
          "output_type": "execute_result",
          "data": {
            "text/plain": [
              "['machine learning ml study computer algorithm improve automatically experience',\n",
              " '[ ][ ] seen subset artificial intelligence',\n",
              " 'machine learning algorithm build mathematical model based sample data known training data order make prediction decision without explicitly programmed',\n",
              " '[ ] machine learning algorithm used wide variety application email filtering computer vision difficult infeasible develop conventional algorithm perform needed task',\n",
              " 'machine learning closely related computational statistic focus making prediction using computer',\n",
              " 'study mathematical optimization delivers method theory application domain field machine learning',\n",
              " 'data mining related field study focusing exploratory data analysis unsupervised learning',\n",
              " '[ ][ ] application across business problem machine learning also referred predictive analytics']"
            ]
          },
          "metadata": {
            "tags": []
          },
          "execution_count": 14
        }
      ]
    },
    {
      "cell_type": "code",
      "metadata": {
        "id": "z0uM4CPPpCVX",
        "colab_type": "code",
        "colab": {
          "base_uri": "https://localhost:8080/",
          "height": 1000
        },
        "outputId": "0c3c6ce2-8e09-4524-b261-2cacef59e1aa"
      },
      "source": [
        "from sklearn.feature_extraction.text import TfidfVectorizer\n",
        "cv= TfidfVectorizer()\n",
        "x=cv.fit_transform(corpus).toarray()\n",
        "import numpy as np\n",
        "print(np.shape(x))\n",
        "x"
      ],
      "execution_count": 19,
      "outputs": [
        {
          "output_type": "stream",
          "text": [
            "(8, 67)\n"
          ],
          "name": "stdout"
        },
        {
          "output_type": "execute_result",
          "data": {
            "text/plain": [
              "array([[0.        , 0.29480044, 0.        , 0.        , 0.        ,\n",
              "        0.        , 0.        , 0.40763752, 0.        , 0.        ,\n",
              "        0.        , 0.        , 0.        , 0.29480044, 0.        ,\n",
              "        0.        , 0.        , 0.        , 0.        , 0.        ,\n",
              "        0.        , 0.        , 0.40763752, 0.        , 0.        ,\n",
              "        0.        , 0.        , 0.        , 0.        , 0.40763752,\n",
              "        0.        , 0.        , 0.        , 0.18196335, 0.20370086,\n",
              "        0.        , 0.        , 0.        , 0.        , 0.        ,\n",
              "        0.40763752, 0.        , 0.        , 0.        , 0.        ,\n",
              "        0.        , 0.        , 0.        , 0.        , 0.        ,\n",
              "        0.        , 0.        , 0.        , 0.        , 0.        ,\n",
              "        0.29480044, 0.        , 0.        , 0.        , 0.        ,\n",
              "        0.        , 0.        , 0.        , 0.        , 0.        ,\n",
              "        0.        , 0.        ],\n",
              "       [0.        , 0.        , 0.        , 0.        , 0.        ,\n",
              "        0.        , 0.5       , 0.        , 0.        , 0.        ,\n",
              "        0.        , 0.        , 0.        , 0.        , 0.        ,\n",
              "        0.        , 0.        , 0.        , 0.        , 0.        ,\n",
              "        0.        , 0.        , 0.        , 0.        , 0.        ,\n",
              "        0.        , 0.        , 0.        , 0.        , 0.        ,\n",
              "        0.        , 0.5       , 0.        , 0.        , 0.        ,\n",
              "        0.        , 0.        , 0.        , 0.        , 0.        ,\n",
              "        0.        , 0.        , 0.        , 0.        , 0.        ,\n",
              "        0.        , 0.        , 0.        , 0.        , 0.        ,\n",
              "        0.        , 0.        , 0.        , 0.5       , 0.        ,\n",
              "        0.        , 0.5       , 0.        , 0.        , 0.        ,\n",
              "        0.        , 0.        , 0.        , 0.        , 0.        ,\n",
              "        0.        , 0.        ],\n",
              "       [0.        , 0.17444708, 0.        , 0.        , 0.        ,\n",
              "        0.        , 0.        , 0.        , 0.24121801, 0.24121801,\n",
              "        0.        , 0.        , 0.        , 0.        , 0.        ,\n",
              "        0.40431903, 0.24121801, 0.        , 0.        , 0.        ,\n",
              "        0.        , 0.        , 0.        , 0.24121801, 0.        ,\n",
              "        0.        , 0.        , 0.        , 0.        , 0.        ,\n",
              "        0.        , 0.        , 0.24121801, 0.10767614, 0.12053924,\n",
              "        0.24121801, 0.        , 0.20215952, 0.        , 0.        ,\n",
              "        0.        , 0.24121801, 0.        , 0.        , 0.24121801,\n",
              "        0.        , 0.20215952, 0.        , 0.        , 0.24121801,\n",
              "        0.        , 0.        , 0.24121801, 0.        , 0.        ,\n",
              "        0.        , 0.        , 0.        , 0.        , 0.24121801,\n",
              "        0.        , 0.        , 0.        , 0.        , 0.        ,\n",
              "        0.        , 0.24121801],\n",
              "       [0.        , 0.3551402 , 0.        , 0.        , 0.        ,\n",
              "        0.1775701 , 0.        , 0.        , 0.        , 0.        ,\n",
              "        0.        , 0.        , 0.        , 0.1775701 , 0.24553639,\n",
              "        0.        , 0.        , 0.        , 0.24553639, 0.24553639,\n",
              "        0.        , 0.24553639, 0.        , 0.        , 0.        ,\n",
              "        0.        , 0.24553639, 0.        , 0.        , 0.        ,\n",
              "        0.24553639, 0.        , 0.        , 0.10960381, 0.12269718,\n",
              "        0.        , 0.        , 0.        , 0.        , 0.        ,\n",
              "        0.        , 0.        , 0.24553639, 0.        , 0.        ,\n",
              "        0.24553639, 0.        , 0.        , 0.        , 0.        ,\n",
              "        0.        , 0.        , 0.        , 0.        , 0.        ,\n",
              "        0.        , 0.        , 0.24553639, 0.        , 0.        ,\n",
              "        0.        , 0.24553639, 0.        , 0.24553639, 0.24553639,\n",
              "        0.24553639, 0.        ],\n",
              "       [0.        , 0.        , 0.        , 0.        , 0.        ,\n",
              "        0.        , 0.        , 0.        , 0.        , 0.        ,\n",
              "        0.        , 0.34551173, 0.34551173, 0.24987153, 0.        ,\n",
              "        0.        , 0.        , 0.        , 0.        , 0.        ,\n",
              "        0.        , 0.        , 0.        , 0.        , 0.        ,\n",
              "        0.        , 0.        , 0.34551173, 0.        , 0.        ,\n",
              "        0.        , 0.        , 0.        , 0.15423132, 0.17265593,\n",
              "        0.        , 0.34551173, 0.        , 0.        , 0.        ,\n",
              "        0.        , 0.        , 0.        , 0.        , 0.        ,\n",
              "        0.        , 0.2895658 , 0.        , 0.        , 0.        ,\n",
              "        0.        , 0.2895658 , 0.        , 0.        , 0.34551173,\n",
              "        0.        , 0.        , 0.        , 0.        , 0.        ,\n",
              "        0.        , 0.        , 0.34551173, 0.        , 0.        ,\n",
              "        0.        , 0.        ],\n",
              "       [0.        , 0.        , 0.        , 0.        , 0.        ,\n",
              "        0.25730469, 0.        , 0.        , 0.        , 0.        ,\n",
              "        0.        , 0.        , 0.        , 0.        , 0.        ,\n",
              "        0.        , 0.        , 0.35579   , 0.        , 0.        ,\n",
              "        0.35579   , 0.        , 0.        , 0.        , 0.        ,\n",
              "        0.29817978, 0.        , 0.        , 0.        , 0.        ,\n",
              "        0.        , 0.        , 0.        , 0.15881938, 0.17779209,\n",
              "        0.        , 0.        , 0.29817978, 0.35579   , 0.        ,\n",
              "        0.        , 0.        , 0.        , 0.35579   , 0.        ,\n",
              "        0.        , 0.        , 0.        , 0.        , 0.        ,\n",
              "        0.        , 0.        , 0.        , 0.        , 0.        ,\n",
              "        0.25730469, 0.        , 0.        , 0.35579   , 0.        ,\n",
              "        0.        , 0.        , 0.        , 0.        , 0.        ,\n",
              "        0.        , 0.        ],\n",
              "       [0.        , 0.        , 0.        , 0.31723634, 0.        ,\n",
              "        0.        , 0.        , 0.        , 0.        , 0.        ,\n",
              "        0.        , 0.        , 0.        , 0.        , 0.        ,\n",
              "        0.53173762, 0.        , 0.        , 0.        , 0.        ,\n",
              "        0.        , 0.        , 0.        , 0.        , 0.31723634,\n",
              "        0.26586881, 0.        , 0.        , 0.31723634, 0.        ,\n",
              "        0.        , 0.        , 0.        , 0.1416096 , 0.        ,\n",
              "        0.        , 0.        , 0.        , 0.        , 0.31723634,\n",
              "        0.        , 0.        , 0.        , 0.        , 0.        ,\n",
              "        0.        , 0.        , 0.        , 0.        , 0.        ,\n",
              "        0.        , 0.26586881, 0.        , 0.        , 0.        ,\n",
              "        0.22942297, 0.        , 0.        , 0.        , 0.        ,\n",
              "        0.31723634, 0.        , 0.        , 0.        , 0.        ,\n",
              "        0.        , 0.        ],\n",
              "       [0.35417422, 0.        , 0.35417422, 0.        , 0.35417422,\n",
              "        0.25613617, 0.        , 0.        , 0.        , 0.        ,\n",
              "        0.35417422, 0.        , 0.        , 0.        , 0.        ,\n",
              "        0.        , 0.        , 0.        , 0.        , 0.        ,\n",
              "        0.        , 0.        , 0.        , 0.        , 0.        ,\n",
              "        0.        , 0.        , 0.        , 0.        , 0.        ,\n",
              "        0.        , 0.        , 0.        , 0.15809812, 0.17698467,\n",
              "        0.        , 0.        , 0.        , 0.        , 0.        ,\n",
              "        0.        , 0.        , 0.        , 0.        , 0.        ,\n",
              "        0.        , 0.        , 0.35417422, 0.35417422, 0.        ,\n",
              "        0.35417422, 0.        , 0.        , 0.        , 0.        ,\n",
              "        0.        , 0.        , 0.        , 0.        , 0.        ,\n",
              "        0.        , 0.        , 0.        , 0.        , 0.        ,\n",
              "        0.        , 0.        ]])"
            ]
          },
          "metadata": {
            "tags": []
          },
          "execution_count": 19
        }
      ]
    }
  ]
}