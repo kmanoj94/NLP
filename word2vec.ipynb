{
  "nbformat": 4,
  "nbformat_minor": 0,
  "metadata": {
    "colab": {
      "name": "word2vec.ipynb",
      "provenance": [],
      "authorship_tag": "ABX9TyNpXglROM2fyJ+qxlv39hC0",
      "include_colab_link": true
    },
    "kernelspec": {
      "name": "python3",
      "display_name": "Python 3"
    },
    "accelerator": "GPU"
  },
  "cells": [
    {
      "cell_type": "markdown",
      "metadata": {
        "id": "view-in-github",
        "colab_type": "text"
      },
      "source": [
        "<a href=\"https://colab.research.google.com/github/kmanoj94/NLP-basics/blob/master/word2vec.ipynb\" target=\"_parent\"><img src=\"https://colab.research.google.com/assets/colab-badge.svg\" alt=\"Open In Colab\"/></a>"
      ]
    },
    {
      "cell_type": "code",
      "metadata": {
        "id": "bhiA0Xe-1HYG",
        "colab_type": "code",
        "colab": {}
      },
      "source": [
        "import nltk\n",
        "from gensim.models import Word2Vec\n",
        "from nltk.corpus import stopwords"
      ],
      "execution_count": 1,
      "outputs": []
    },
    {
      "cell_type": "code",
      "metadata": {
        "id": "4H6ymlp656CX",
        "colab_type": "code",
        "colab": {
          "base_uri": "https://localhost:8080/",
          "height": 68
        },
        "outputId": "409f89da-c896-433a-ae9f-c2500b83192c"
      },
      "source": [
        "nltk.download('punkt')"
      ],
      "execution_count": 2,
      "outputs": [
        {
          "output_type": "stream",
          "text": [
            "[nltk_data] Downloading package punkt to /root/nltk_data...\n",
            "[nltk_data]   Unzipping tokenizers/punkt.zip.\n"
          ],
          "name": "stdout"
        },
        {
          "output_type": "execute_result",
          "data": {
            "text/plain": [
              "True"
            ]
          },
          "metadata": {
            "tags": []
          },
          "execution_count": 2
        }
      ]
    },
    {
      "cell_type": "code",
      "metadata": {
        "id": "yho7B48D1ejE",
        "colab_type": "code",
        "colab": {
          "base_uri": "https://localhost:8080/",
          "height": 68
        },
        "outputId": "cfe2d417-3060-47a2-f5ad-7488cc54afe3"
      },
      "source": [
        "nltk.download('stopwords')"
      ],
      "execution_count": 3,
      "outputs": [
        {
          "output_type": "stream",
          "text": [
            "[nltk_data] Downloading package stopwords to /root/nltk_data...\n",
            "[nltk_data]   Unzipping corpora/stopwords.zip.\n"
          ],
          "name": "stdout"
        },
        {
          "output_type": "execute_result",
          "data": {
            "text/plain": [
              "True"
            ]
          },
          "metadata": {
            "tags": []
          },
          "execution_count": 3
        }
      ]
    },
    {
      "cell_type": "code",
      "metadata": {
        "id": "GLRTW1M_14ae",
        "colab_type": "code",
        "colab": {
          "base_uri": "https://localhost:8080/",
          "height": 68
        },
        "outputId": "02a65be8-01de-4d42-e539-2d2c554c9882"
      },
      "source": [
        "nltk.download('wordnet')"
      ],
      "execution_count": 4,
      "outputs": [
        {
          "output_type": "stream",
          "text": [
            "[nltk_data] Downloading package wordnet to /root/nltk_data...\n",
            "[nltk_data]   Unzipping corpora/wordnet.zip.\n"
          ],
          "name": "stdout"
        },
        {
          "output_type": "execute_result",
          "data": {
            "text/plain": [
              "True"
            ]
          },
          "metadata": {
            "tags": []
          },
          "execution_count": 4
        }
      ]
    },
    {
      "cell_type": "code",
      "metadata": {
        "id": "PuWLQZi22CaP",
        "colab_type": "code",
        "colab": {}
      },
      "source": [
        "import re"
      ],
      "execution_count": 5,
      "outputs": []
    },
    {
      "cell_type": "code",
      "metadata": {
        "id": "v9DHfM9Y2FKx",
        "colab_type": "code",
        "colab": {}
      },
      "source": [
        "paragraph= \"\"\"Machine learning (ML) is the study of computer algorithms that improve automatically through experience.[1][2] It is seen as a subset of artificial intelligence. Machine learning algorithms build a mathematical model based on sample data, known as \"training data\", in order to make predictions or decisions without being explicitly programmed to do so.[3] Machine learning algorithms are used in a wide variety of applications, such as email filtering and computer vision, where it is difficult or infeasible to develop conventional algorithms to perform the needed tasks.\n",
        "\n",
        "Machine learning is closely related to computational statistics, which focuses on making predictions using computers. The study of mathematical optimization delivers methods, theory and application domains to the field of machine learning. Data mining is a related field of study, focusing on exploratory data analysis through unsupervised learning.[5][6] In its application across business problems, machine learning is also referred to as predictive analytics. \"\"\""
      ],
      "execution_count": 6,
      "outputs": []
    },
    {
      "cell_type": "markdown",
      "metadata": {
        "id": "0WQPaXk_3VUE",
        "colab_type": "text"
      },
      "source": [
        "preprocessing of data"
      ]
    },
    {
      "cell_type": "code",
      "metadata": {
        "id": "LAAXA08G2iRA",
        "colab_type": "code",
        "colab": {
          "base_uri": "https://localhost:8080/",
          "height": 137
        },
        "outputId": "056197e9-081b-4678-b932-534119648c60"
      },
      "source": [
        "text = re.sub(r'\\[[0-9]*\\]',' ',paragraph)\n",
        "text = re.sub(r'\\s+',' ',text)\n",
        "text = text.lower()\n",
        "text = re.sub(r'\\d',' ',text)\n",
        "text = re.sub(r'\\s+',' ',text)\n",
        "text"
      ],
      "execution_count": 7,
      "outputs": [
        {
          "output_type": "execute_result",
          "data": {
            "application/vnd.google.colaboratory.intrinsic+json": {
              "type": "string"
            },
            "text/plain": [
              "'machine learning (ml) is the study of computer algorithms that improve automatically through experience. it is seen as a subset of artificial intelligence. machine learning algorithms build a mathematical model based on sample data, known as \"training data\", in order to make predictions or decisions without being explicitly programmed to do so. machine learning algorithms are used in a wide variety of applications, such as email filtering and computer vision, where it is difficult or infeasible to develop conventional algorithms to perform the needed tasks. machine learning is closely related to computational statistics, which focuses on making predictions using computers. the study of mathematical optimization delivers methods, theory and application domains to the field of machine learning. data mining is a related field of study, focusing on exploratory data analysis through unsupervised learning. in its application across business problems, machine learning is also referred to as predictive analytics. '"
            ]
          },
          "metadata": {
            "tags": []
          },
          "execution_count": 7
        }
      ]
    },
    {
      "cell_type": "markdown",
      "metadata": {
        "id": "v8lC8kYA47Cf",
        "colab_type": "text"
      },
      "source": [
        "preparing the dataset"
      ]
    },
    {
      "cell_type": "code",
      "metadata": {
        "id": "RNpYfOOE44bk",
        "colab_type": "code",
        "colab": {}
      },
      "source": [
        "sentences = nltk.sent_tokenize(text)\n",
        "sentences = [nltk.word_tokenize(sentence) for sentence in sentences]"
      ],
      "execution_count": 8,
      "outputs": []
    },
    {
      "cell_type": "code",
      "metadata": {
        "id": "xmJii6dt7R_W",
        "colab_type": "code",
        "colab": {
          "base_uri": "https://localhost:8080/",
          "height": 1000
        },
        "outputId": "7e7d0a1a-7f04-4bca-8ab5-017499fcb485"
      },
      "source": [
        "for i in range(len(sentences)):\n",
        "  sentences[i] = [word for word in sentences[i] if word not in stopwords.words('english')]\n",
        "sentences"
      ],
      "execution_count": 12,
      "outputs": [
        {
          "output_type": "execute_result",
          "data": {
            "text/plain": [
              "[['machine',\n",
              "  'learning',\n",
              "  '(',\n",
              "  'ml',\n",
              "  ')',\n",
              "  'study',\n",
              "  'computer',\n",
              "  'algorithms',\n",
              "  'improve',\n",
              "  'automatically',\n",
              "  'experience',\n",
              "  '.'],\n",
              " ['seen', 'subset', 'artificial', 'intelligence', '.'],\n",
              " ['machine',\n",
              "  'learning',\n",
              "  'algorithms',\n",
              "  'build',\n",
              "  'mathematical',\n",
              "  'model',\n",
              "  'based',\n",
              "  'sample',\n",
              "  'data',\n",
              "  ',',\n",
              "  'known',\n",
              "  '``',\n",
              "  'training',\n",
              "  'data',\n",
              "  \"''\",\n",
              "  ',',\n",
              "  'order',\n",
              "  'make',\n",
              "  'predictions',\n",
              "  'decisions',\n",
              "  'without',\n",
              "  'explicitly',\n",
              "  'programmed',\n",
              "  '.'],\n",
              " ['machine',\n",
              "  'learning',\n",
              "  'algorithms',\n",
              "  'used',\n",
              "  'wide',\n",
              "  'variety',\n",
              "  'applications',\n",
              "  ',',\n",
              "  'email',\n",
              "  'filtering',\n",
              "  'computer',\n",
              "  'vision',\n",
              "  ',',\n",
              "  'difficult',\n",
              "  'infeasible',\n",
              "  'develop',\n",
              "  'conventional',\n",
              "  'algorithms',\n",
              "  'perform',\n",
              "  'needed',\n",
              "  'tasks',\n",
              "  '.'],\n",
              " ['machine',\n",
              "  'learning',\n",
              "  'closely',\n",
              "  'related',\n",
              "  'computational',\n",
              "  'statistics',\n",
              "  ',',\n",
              "  'focuses',\n",
              "  'making',\n",
              "  'predictions',\n",
              "  'using',\n",
              "  'computers',\n",
              "  '.'],\n",
              " ['study',\n",
              "  'mathematical',\n",
              "  'optimization',\n",
              "  'delivers',\n",
              "  'methods',\n",
              "  ',',\n",
              "  'theory',\n",
              "  'application',\n",
              "  'domains',\n",
              "  'field',\n",
              "  'machine',\n",
              "  'learning',\n",
              "  '.'],\n",
              " ['data',\n",
              "  'mining',\n",
              "  'related',\n",
              "  'field',\n",
              "  'study',\n",
              "  ',',\n",
              "  'focusing',\n",
              "  'exploratory',\n",
              "  'data',\n",
              "  'analysis',\n",
              "  'unsupervised',\n",
              "  'learning',\n",
              "  '.'],\n",
              " ['application',\n",
              "  'across',\n",
              "  'business',\n",
              "  'problems',\n",
              "  ',',\n",
              "  'machine',\n",
              "  'learning',\n",
              "  'also',\n",
              "  'referred',\n",
              "  'predictive',\n",
              "  'analytics',\n",
              "  '.']]"
            ]
          },
          "metadata": {
            "tags": []
          },
          "execution_count": 12
        }
      ]
    },
    {
      "cell_type": "code",
      "metadata": {
        "id": "2m5HoJYJrDgO",
        "colab_type": "code",
        "colab": {}
      },
      "source": [
        "model = Word2Vec(sentences,min_count=1)"
      ],
      "execution_count": 13,
      "outputs": []
    },
    {
      "cell_type": "code",
      "metadata": {
        "id": "jUMZ01Qisbn0",
        "colab_type": "code",
        "colab": {
          "base_uri": "https://localhost:8080/",
          "height": 1000
        },
        "outputId": "0d30f254-ac66-4892-be21-e2c80933afc9"
      },
      "source": [
        "words = model.wv.vocab\n",
        "words"
      ],
      "execution_count": 14,
      "outputs": [
        {
          "output_type": "execute_result",
          "data": {
            "text/plain": [
              "{\"''\": <gensim.models.keyedvectors.Vocab at 0x7f14c5818a58>,\n",
              " '(': <gensim.models.keyedvectors.Vocab at 0x7f14c57c15f8>,\n",
              " ')': <gensim.models.keyedvectors.Vocab at 0x7f14c57c16d8>,\n",
              " ',': <gensim.models.keyedvectors.Vocab at 0x7f14c5818da0>,\n",
              " '.': <gensim.models.keyedvectors.Vocab at 0x7f14c5818ef0>,\n",
              " '``': <gensim.models.keyedvectors.Vocab at 0x7f14c5818630>,\n",
              " 'across': <gensim.models.keyedvectors.Vocab at 0x7f14bee6f860>,\n",
              " 'algorithms': <gensim.models.keyedvectors.Vocab at 0x7f14c57c1240>,\n",
              " 'also': <gensim.models.keyedvectors.Vocab at 0x7f14bee6fdd8>,\n",
              " 'analysis': <gensim.models.keyedvectors.Vocab at 0x7f14bee6f828>,\n",
              " 'analytics': <gensim.models.keyedvectors.Vocab at 0x7f14bee6fef0>,\n",
              " 'application': <gensim.models.keyedvectors.Vocab at 0x7f14bee6f940>,\n",
              " 'applications': <gensim.models.keyedvectors.Vocab at 0x7f14c5818898>,\n",
              " 'artificial': <gensim.models.keyedvectors.Vocab at 0x7f14c58188d0>,\n",
              " 'automatically': <gensim.models.keyedvectors.Vocab at 0x7f14c57c1780>,\n",
              " 'based': <gensim.models.keyedvectors.Vocab at 0x7f14c5818d30>,\n",
              " 'build': <gensim.models.keyedvectors.Vocab at 0x7f14c5818f60>,\n",
              " 'business': <gensim.models.keyedvectors.Vocab at 0x7f14bee6fb70>,\n",
              " 'closely': <gensim.models.keyedvectors.Vocab at 0x7f14c5819198>,\n",
              " 'computational': <gensim.models.keyedvectors.Vocab at 0x7f14c5819278>,\n",
              " 'computer': <gensim.models.keyedvectors.Vocab at 0x7f14c57c1518>,\n",
              " 'computers': <gensim.models.keyedvectors.Vocab at 0x7f14bee6fc50>,\n",
              " 'conventional': <gensim.models.keyedvectors.Vocab at 0x7f14c5819390>,\n",
              " 'data': <gensim.models.keyedvectors.Vocab at 0x7f14c58189e8>,\n",
              " 'decisions': <gensim.models.keyedvectors.Vocab at 0x7f14c58186a0>,\n",
              " 'delivers': <gensim.models.keyedvectors.Vocab at 0x7f14bee6f7b8>,\n",
              " 'develop': <gensim.models.keyedvectors.Vocab at 0x7f14c5819668>,\n",
              " 'difficult': <gensim.models.keyedvectors.Vocab at 0x7f14c5818208>,\n",
              " 'domains': <gensim.models.keyedvectors.Vocab at 0x7f14bee6f208>,\n",
              " 'email': <gensim.models.keyedvectors.Vocab at 0x7f14c58182e8>,\n",
              " 'experience': <gensim.models.keyedvectors.Vocab at 0x7f14c57c1668>,\n",
              " 'explicitly': <gensim.models.keyedvectors.Vocab at 0x7f14c58180f0>,\n",
              " 'exploratory': <gensim.models.keyedvectors.Vocab at 0x7f14bee6f9b0>,\n",
              " 'field': <gensim.models.keyedvectors.Vocab at 0x7f14bee6f898>,\n",
              " 'filtering': <gensim.models.keyedvectors.Vocab at 0x7f14c5818438>,\n",
              " 'focuses': <gensim.models.keyedvectors.Vocab at 0x7f14bee6fe10>,\n",
              " 'focusing': <gensim.models.keyedvectors.Vocab at 0x7f14bee6f3c8>,\n",
              " 'improve': <gensim.models.keyedvectors.Vocab at 0x7f14c57c1550>,\n",
              " 'infeasible': <gensim.models.keyedvectors.Vocab at 0x7f14c5818c18>,\n",
              " 'intelligence': <gensim.models.keyedvectors.Vocab at 0x7f14c5818940>,\n",
              " 'known': <gensim.models.keyedvectors.Vocab at 0x7f14c58183c8>,\n",
              " 'learning': <gensim.models.keyedvectors.Vocab at 0x7f14e791dd68>,\n",
              " 'machine': <gensim.models.keyedvectors.Vocab at 0x7f14e791dcf8>,\n",
              " 'make': <gensim.models.keyedvectors.Vocab at 0x7f14c5818588>,\n",
              " 'making': <gensim.models.keyedvectors.Vocab at 0x7f14bee6fe80>,\n",
              " 'mathematical': <gensim.models.keyedvectors.Vocab at 0x7f14c5818be0>,\n",
              " 'methods': <gensim.models.keyedvectors.Vocab at 0x7f14bee6f438>,\n",
              " 'mining': <gensim.models.keyedvectors.Vocab at 0x7f14bee6f8d0>,\n",
              " 'ml': <gensim.models.keyedvectors.Vocab at 0x7f14c57c1278>,\n",
              " 'model': <gensim.models.keyedvectors.Vocab at 0x7f14c5818550>,\n",
              " 'needed': <gensim.models.keyedvectors.Vocab at 0x7f14c5819128>,\n",
              " 'optimization': <gensim.models.keyedvectors.Vocab at 0x7f14bee6f9e8>,\n",
              " 'order': <gensim.models.keyedvectors.Vocab at 0x7f14c58185c0>,\n",
              " 'perform': <gensim.models.keyedvectors.Vocab at 0x7f14c5819240>,\n",
              " 'predictions': <gensim.models.keyedvectors.Vocab at 0x7f14c58187b8>,\n",
              " 'predictive': <gensim.models.keyedvectors.Vocab at 0x7f14bee6fcc0>,\n",
              " 'problems': <gensim.models.keyedvectors.Vocab at 0x7f14bee6fac8>,\n",
              " 'programmed': <gensim.models.keyedvectors.Vocab at 0x7f14c5818080>,\n",
              " 'referred': <gensim.models.keyedvectors.Vocab at 0x7f14bee6f588>,\n",
              " 'related': <gensim.models.keyedvectors.Vocab at 0x7f14c5819208>,\n",
              " 'sample': <gensim.models.keyedvectors.Vocab at 0x7f14c5818978>,\n",
              " 'seen': <gensim.models.keyedvectors.Vocab at 0x7f14c5818748>,\n",
              " 'statistics': <gensim.models.keyedvectors.Vocab at 0x7f14c58193c8>,\n",
              " 'study': <gensim.models.keyedvectors.Vocab at 0x7f14c57c1438>,\n",
              " 'subset': <gensim.models.keyedvectors.Vocab at 0x7f14c5818c88>,\n",
              " 'tasks': <gensim.models.keyedvectors.Vocab at 0x7f14c5819080>,\n",
              " 'theory': <gensim.models.keyedvectors.Vocab at 0x7f14bee6fd68>,\n",
              " 'training': <gensim.models.keyedvectors.Vocab at 0x7f14c5818e48>,\n",
              " 'unsupervised': <gensim.models.keyedvectors.Vocab at 0x7f14bee6f5c0>,\n",
              " 'used': <gensim.models.keyedvectors.Vocab at 0x7f14c58184a8>,\n",
              " 'using': <gensim.models.keyedvectors.Vocab at 0x7f14bee6f748>,\n",
              " 'variety': <gensim.models.keyedvectors.Vocab at 0x7f14c5818828>,\n",
              " 'vision': <gensim.models.keyedvectors.Vocab at 0x7f14c5818518>,\n",
              " 'wide': <gensim.models.keyedvectors.Vocab at 0x7f14c5818eb8>,\n",
              " 'without': <gensim.models.keyedvectors.Vocab at 0x7f14c5818b38>}"
            ]
          },
          "metadata": {
            "tags": []
          },
          "execution_count": 14
        }
      ]
    },
    {
      "cell_type": "code",
      "metadata": {
        "id": "E9yXMZCoshxB",
        "colab_type": "code",
        "colab": {
          "base_uri": "https://localhost:8080/",
          "height": 459
        },
        "outputId": "5a24a20b-675c-44dc-8170-709da040865f"
      },
      "source": [
        "vector = model.wv['predictions']\n",
        "vector"
      ],
      "execution_count": 16,
      "outputs": [
        {
          "output_type": "execute_result",
          "data": {
            "text/plain": [
              "array([-2.2653101e-03,  5.1529065e-04, -2.0008129e-03, -9.5707923e-04,\n",
              "       -1.0359861e-03, -2.6128814e-03,  4.6297099e-04,  7.7923370e-04,\n",
              "        3.3797446e-04,  2.4018633e-04, -3.1439881e-03,  5.4653420e-04,\n",
              "        2.1389846e-03,  9.1950310e-04, -3.1877900e-03,  4.7997981e-03,\n",
              "       -1.8095025e-03,  2.5382789e-03, -3.0549294e-03, -2.6293178e-03,\n",
              "        3.8108681e-03, -1.8597445e-03, -1.7161391e-03,  1.7896635e-03,\n",
              "       -4.9920254e-03, -2.6091365e-03,  3.9109457e-03,  1.8896564e-03,\n",
              "        2.4966302e-03, -3.9974395e-03,  7.3720358e-04,  4.5151631e-03,\n",
              "        3.5370826e-03,  1.4716311e-03,  3.7953916e-03, -4.2575607e-03,\n",
              "        1.7365998e-03,  3.2047988e-03, -6.8389236e-05,  2.8989252e-04,\n",
              "       -7.8825501e-04, -1.5570142e-03, -7.9702510e-04,  3.2575040e-03,\n",
              "        1.1739822e-03,  4.6115331e-04,  3.7770355e-03, -1.5842532e-03,\n",
              "        3.5483951e-03,  1.7400366e-03, -3.1934788e-03, -2.4843756e-03,\n",
              "        4.3872441e-04,  7.6353026e-04,  4.3091518e-03,  3.7297581e-03,\n",
              "        2.0128407e-03,  3.1447187e-03,  4.0957336e-03, -3.8001365e-03,\n",
              "       -4.6645454e-03,  1.8980972e-03, -4.7541740e-03, -9.0763695e-04,\n",
              "        5.6223455e-04,  1.8551330e-03, -9.9448976e-04,  5.2784855e-04,\n",
              "       -4.8750620e-03,  2.9467342e-03, -2.7693345e-03,  3.0022911e-03,\n",
              "       -4.4815028e-03, -2.8174217e-03, -2.5028610e-03, -1.0246302e-03,\n",
              "        1.2278075e-03,  1.9077554e-03,  4.6018073e-03, -4.2016031e-03,\n",
              "       -1.8166847e-03, -1.5148410e-03, -4.2426316e-03, -6.6305639e-04,\n",
              "        1.0485172e-03, -2.6863317e-03, -3.1646434e-03,  2.6229064e-03,\n",
              "       -9.9168206e-04, -3.7697440e-03,  3.6903347e-03, -1.3637973e-03,\n",
              "        4.1258079e-03, -9.6356554e-04,  4.3773996e-03,  4.5150416e-03,\n",
              "        5.5744505e-04,  3.4785403e-03, -3.6994116e-03,  1.5706501e-03],\n",
              "      dtype=float32)"
            ]
          },
          "metadata": {
            "tags": []
          },
          "execution_count": 16
        }
      ]
    },
    {
      "cell_type": "code",
      "metadata": {
        "id": "GxGNp0YPtQa6",
        "colab_type": "code",
        "colab": {
          "base_uri": "https://localhost:8080/",
          "height": 241
        },
        "outputId": "9a925eb1-28a2-4a50-d06a-75215fa6f8ab"
      },
      "source": [
        "similar = model.wv.most_similar('predictions')\n",
        "similar"
      ],
      "execution_count": 17,
      "outputs": [
        {
          "output_type": "stream",
          "text": [
            "/usr/local/lib/python3.6/dist-packages/gensim/matutils.py:737: FutureWarning: Conversion of the second argument of issubdtype from `int` to `np.signedinteger` is deprecated. In future, it will be treated as `np.int64 == np.dtype(int).type`.\n",
            "  if np.issubdtype(vec.dtype, np.int):\n"
          ],
          "name": "stderr"
        },
        {
          "output_type": "execute_result",
          "data": {
            "text/plain": [
              "[('variety', 0.26366621255874634),\n",
              " ('sample', 0.19662688672542572),\n",
              " ('data', 0.18802033364772797),\n",
              " ('without', 0.18642152845859528),\n",
              " ('subset', 0.170993834733963),\n",
              " ('business', 0.15648439526557922),\n",
              " ('problems', 0.1429060399532318),\n",
              " ('wide', 0.13926804065704346),\n",
              " ('closely', 0.13823506236076355),\n",
              " ('email', 0.13245496153831482)]"
            ]
          },
          "metadata": {
            "tags": []
          },
          "execution_count": 17
        }
      ]
    },
    {
      "cell_type": "code",
      "metadata": {
        "id": "8i7ZleEOtAQi",
        "colab_type": "code",
        "colab": {}
      },
      "source": [
        ""
      ],
      "execution_count": null,
      "outputs": []
    }
  ]
}